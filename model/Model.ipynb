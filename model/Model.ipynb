{
 "cells": [
  {
   "cell_type": "code",
   "execution_count": 1,
   "metadata": {},
   "outputs": [],
   "source": [
    "import torch\n",
    "import torch.nn as nn\n",
    "import torch.nn.functional as F"
   ]
  },
  {
   "cell_type": "code",
   "execution_count": 2,
   "metadata": {},
   "outputs": [],
   "source": [
    "# define constants\n",
    "IMG_SIZE = 100"
   ]
  },
  {
   "cell_type": "code",
   "execution_count": 3,
   "metadata": {},
   "outputs": [],
   "source": [
    "def conv2d_out_sz(in_size, kernel_size, pool_size, padding=0, stride=1):\n",
    "    return ((in_size - kernel_size + 2*padding)/stride + 1)/pool_size"
   ]
  },
  {
   "cell_type": "code",
   "execution_count": 4,
   "metadata": {},
   "outputs": [
    {
     "name": "stdout",
     "output_type": "stream",
     "text": [
      "5184\n"
     ]
    }
   ],
   "source": [
    "ims = IMG_SIZE # image size\n",
    "ks = 5 # kernel size\n",
    "ps = 2 # pool size\n",
    "out_chan = 64\n",
    "\n",
    "os = conv2d_out_sz(ims,ks,ps) # outputs to the next layer of conv2d\n",
    "os = conv2d_out_sz(os,ks,ps) # output size 2\n",
    "os = conv2d_out_sz(os,ks,ps) # output size 3\n",
    "\n",
    "fcin = int((int(os)**2)*out_chan)\n",
    "print(fcin)"
   ]
  },
  {
   "cell_type": "code",
   "execution_count": 5,
   "metadata": {},
   "outputs": [],
   "source": [
    "class WildfireModel(nn.Module):\n",
    "    def __init__(self):\n",
    "        super().__init__()\n",
    "        \n",
    "        self.kernel_size = 5\n",
    "        \n",
    "        self.conv1 = nn.Conv2d(in_channels=3,  out_channels=16,  kernel_size=self.kernel_size)\n",
    "        self.conv2 = nn.Conv2d(in_channels=16, out_channels=32,  kernel_size=self.kernel_size)\n",
    "        self.conv3 = nn.Conv2d(in_channels=32, out_channels=64, kernel_size=self.kernel_size)\n",
    "\n",
    "        self.fc1 = nn.Linear(fcin, 512)\n",
    "        self.fc2 = nn.Linear(512, 128)\n",
    "        self.fc3 = nn.Linear(128, 32)\n",
    "        self.fc4 = nn.Linear(32, 8)\n",
    "        self.fc5 = nn.Linear(8, 1)\n",
    "\n",
    "    def forward(self, x):\n",
    "        x = F.max_pool2d(F.leaky_relu(self.conv1(x)), (2,2))\n",
    "        x = F.max_pool2d(F.leaky_relu(self.conv2(x)), (2,2))\n",
    "        x = F.max_pool2d(F.leaky_relu(self.conv3(x)), (2,2))\n",
    "        \n",
    "        x = x.view(-1, fcin)\n",
    "        \n",
    "        x = F.leaky_relu(self.fc1(x))\n",
    "        x = F.leaky_relu(self.fc2(x))\n",
    "        x = F.leaky_relu(self.fc3(x))\n",
    "        x = F.leaky_relu(self.fc4(x))\n",
    "        x = F.leaky_relu(self.fc5(x))\n",
    "                    \n",
    "        x = F.sigmoid(x)\n",
    "        return x"
   ]
  },
  {
   "cell_type": "code",
   "execution_count": 6,
   "metadata": {},
   "outputs": [],
   "source": [
    "import torch.optim as optim\n",
    "import numpy as np\n",
    "from sklearn.model_selection import train_test_split\n",
    "from tqdm import tqdm\n",
    "import matplotlib.pyplot as plt"
   ]
  },
  {
   "cell_type": "code",
   "execution_count": 7,
   "metadata": {},
   "outputs": [],
   "source": [
    "data = np.load(\"data.npy\", allow_pickle=True)"
   ]
  },
  {
   "cell_type": "code",
   "execution_count": 8,
   "metadata": {},
   "outputs": [
    {
     "data": {
      "text/plain": [
       "((torch.Size([514, 3, 100, 100]), torch.Size([514])),\n",
       " (torch.Size([58, 3, 100, 100]), torch.Size([58])))"
      ]
     },
     "execution_count": 8,
     "metadata": {},
     "output_type": "execute_result"
    }
   ],
   "source": [
    "x = torch.tensor([d[0] for d in data])\n",
    "x = (x/255.0).view(-1,3,100,100)\n",
    "\n",
    "y = torch.tensor([float(d[1]) for d in data])\n",
    "\n",
    "train_x, test_x, train_y, test_y = train_test_split(x, y, test_size = 0.1)\n",
    "(train_x.shape, train_y.shape), (test_x.shape, test_y.shape)"
   ]
  },
  {
   "cell_type": "code",
   "execution_count": 9,
   "metadata": {},
   "outputs": [
    {
     "name": "stdout",
     "output_type": "stream",
     "text": [
      "tensor(0.)\n"
     ]
    },
    {
     "data": {
      "image/png": "[encoded data removed]",
      "text/plain": [
       "<Figure size 432x288 with 1 Axes>"
      ]
     },
     "metadata": {
      "needs_background": "light"
     },
     "output_type": "display_data"
    }
   ],
   "source": [
    "plt.imshow(train_x[0].view(100,100,3))\n",
    "print(train_y[0])"
   ]
  },
  {
   "cell_type": "code",
   "execution_count": 10,
   "metadata": {},
   "outputs": [],
   "source": [
    "def evaluate_accuracy(test_x, test_y, wfm):\n",
    "    correct = []\n",
    "    incorrect = []\n",
    "\n",
    "    with torch.no_grad():\n",
    "        for i in range(len(test_x)):\n",
    "            real_class = test_y[i]\n",
    "            output = wfm(test_x[i:i+1])[0] # returns a list, grab the 0th \n",
    "            predicted_class = np.round(output.detach())\n",
    "            if predicted_class == real_class:\n",
    "                correct += [i]\n",
    "            else:\n",
    "                incorrect += [i, real_class]\n",
    "                \n",
    "    accuracy = round(len(correct)/(len(correct) + len(incorrect)), 3)\n",
    "                \n",
    "    return (accuracy, correct, incorrect)"
   ]
  },
  {
   "cell_type": "code",
   "execution_count": 11,
   "metadata": {},
   "outputs": [],
   "source": [
    "class BoundedNumericList():\n",
    "    \n",
    "    def __init__(self, size):\n",
    "        self.size = size\n",
    "        self.nums = []\n",
    "        self.next_insertion = 0\n",
    "        \n",
    "    def insert(self, item):\n",
    "        if not isinstance(item, (int, float, complex)) or isinstance(item, bool):\n",
    "            return False\n",
    "        if len(self.nums) < self.size:\n",
    "            self.nums += [item]\n",
    "        else:\n",
    "            self.nums[self.next_insertion % self.size] = item\n",
    "        self.next_insertion += 1\n",
    "        return True\n",
    "\n",
    "    def average(self):\n",
    "        if len(self.nums) == 0: return None\n",
    "        return sum(self.nums) / len(self.nums)"
   ]
  },
  {
   "cell_type": "code",
   "execution_count": null,
   "metadata": {},
   "outputs": [
    {
     "name": "stderr",
     "output_type": "stream",
     "text": [
      "/usr/local/lib/python3.7/site-packages/torch/nn/functional.py:1351: UserWarning: nn.functional.sigmoid is deprecated. Use torch.sigmoid instead.\n",
      "  warnings.warn(\"nn.functional.sigmoid is deprecated. Use torch.sigmoid instead.\")\n"
     ]
    },
    {
     "name": "stdout",
     "output_type": "stream",
     "text": [
      "Epoch: 0. Loss: 0.7333468794822693. Rolling Accuracy: 0.275\n",
      "Saving model at epoch 0.\n"
     ]
    },
    {
     "name": "stderr",
     "output_type": "stream",
     "text": [
      "/usr/local/lib/python3.7/site-packages/torch/serialization.py:360: UserWarning: Couldn't retrieve source code for container of type WildfireModel. It won't be checked for correctness upon loading.\n",
      "  \"type \" + obj.__name__ + \". It won't be checked \"\n"
     ]
    },
    {
     "name": "stdout",
     "output_type": "stream",
     "text": [
      "Epoch: 1. Loss: 0.7251073718070984. Rolling Accuracy: 0.275\n",
      "Epoch: 2. Loss: 0.7088643312454224. Rolling Accuracy: 0.275\n",
      "Epoch: 3. Loss: 0.6896524429321289. Rolling Accuracy: 0.322\n",
      "Saving model at epoch 3.\n",
      "Epoch: 4. Loss: 0.709032416343689. Rolling Accuracy: 0.336\n",
      "Saving model at epoch 4.\n",
      "Epoch: 5. Loss: 0.6953450441360474. Rolling Accuracy: 0.394\n",
      "Saving model at epoch 5.\n",
      "Epoch: 6. Loss: 0.6942388415336609. Rolling Accuracy: 0.412\n",
      "Saving model at epoch 6.\n",
      "Epoch: 7. Loss: 0.6972090601921082. Rolling Accuracy: 0.468\n",
      "Saving model at epoch 7.\n",
      "Epoch: 8. Loss: 0.6917996406555176. Rolling Accuracy: 0.481\n",
      "Saving model at epoch 8.\n",
      "Epoch: 9. Loss: 0.6847458481788635. Rolling Accuracy: 0.487\n",
      "Saving model at epoch 9.\n",
      "Epoch: 10. Loss: 0.7577024698257446. Rolling Accuracy: 0.481\n",
      "Epoch: 11. Loss: 0.6842703223228455. Rolling Accuracy: 0.474\n",
      "Epoch: 12. Loss: 0.7128496170043945. Rolling Accuracy: 0.481\n",
      "Epoch: 13. Loss: 0.679670512676239. Rolling Accuracy: 0.487\n",
      "Saving model at epoch 13.\n",
      "Epoch: 14. Loss: 0.7475764155387878. Rolling Accuracy: 0.5\n",
      "Saving model at epoch 14.\n",
      "Epoch: 15. Loss: 0.6876283884048462. Rolling Accuracy: 0.464\n",
      "Epoch: 16. Loss: 0.679118812084198. Rolling Accuracy: 0.47\n",
      "Epoch: 17. Loss: 0.7353628873825073. Rolling Accuracy: 0.47\n",
      "Epoch: 18. Loss: 0.6897420287132263. Rolling Accuracy: 0.481\n",
      "Epoch: 19. Loss: 0.6852339506149292. Rolling Accuracy: 0.445\n",
      "Epoch: 20. Loss: 0.6713204383850098. Rolling Accuracy: 0.439\n",
      "Epoch: 21. Loss: 0.6690258383750916. Rolling Accuracy: 0.464\n",
      "Epoch: 22. Loss: 0.6694830060005188. Rolling Accuracy: 0.5\n",
      "Epoch: 23. Loss: 0.6701207160949707. Rolling Accuracy: 0.513\n",
      "Saving model at epoch 23.\n",
      "Epoch: 24. Loss: 0.665168821811676. Rolling Accuracy: 0.519\n",
      "Saving model at epoch 24.\n",
      "Epoch: 25. Loss: 0.6608676314353943. Rolling Accuracy: 0.526\n",
      "Saving model at epoch 25.\n",
      "Epoch: 26. Loss: 0.6567968726158142. Rolling Accuracy: 0.526\n",
      "Epoch: 27. Loss: 0.6514629125595093. Rolling Accuracy: 0.533\n",
      "Saving model at epoch 27.\n",
      "Epoch: 28. Loss: 0.6484552621841431. Rolling Accuracy: 0.533\n",
      "Epoch: 29. Loss: 0.6431878209114075. Rolling Accuracy: 0.533\n",
      "Epoch: 30. Loss: 0.6446399092674255. Rolling Accuracy: 0.526\n",
      "Epoch: 31. Loss: 0.6371292471885681. Rolling Accuracy: 0.526\n",
      "Epoch: 32. Loss: 0.6333085894584656. Rolling Accuracy: 0.533\n",
      "Epoch: 33. Loss: 0.6411924958229065. Rolling Accuracy: 0.54\n",
      "Saving model at epoch 33.\n",
      "Epoch: 34. Loss: 0.6289674639701843. Rolling Accuracy: 0.561\n",
      "Saving model at epoch 34.\n",
      "Epoch: 35. Loss: 0.6290994882583618. Rolling Accuracy: 0.575\n",
      "Saving model at epoch 35.\n",
      "Epoch: 36. Loss: 0.6302374005317688. Rolling Accuracy: 0.582\n",
      "Saving model at epoch 36.\n",
      "Epoch: 37. Loss: 0.6360740661621094. Rolling Accuracy: 0.589\n",
      "Saving model at epoch 37.\n",
      "Epoch: 38. Loss: 0.6338704824447632. Rolling Accuracy: 0.604\n",
      "Saving model at epoch 38.\n",
      "Epoch: 39. Loss: 0.6265636086463928. Rolling Accuracy: 0.642\n",
      "Saving model at epoch 39.\n",
      "Epoch: 40. Loss: 0.6187554001808167. Rolling Accuracy: 0.607\n",
      "Epoch: 41. Loss: 0.6275743246078491. Rolling Accuracy: 0.599\n",
      "Epoch: 42. Loss: 0.6351223587989807. Rolling Accuracy: 0.608\n",
      "Epoch: 43. Loss: 0.6259385347366333. Rolling Accuracy: 0.674\n",
      "Saving model at epoch 43.\n",
      "Epoch: 44. Loss: 0.5976986289024353. Rolling Accuracy: 0.714\n",
      "Saving model at epoch 44.\n",
      "Epoch: 45. Loss: 0.5943922400474548. Rolling Accuracy: 0.723\n",
      "Saving model at epoch 45.\n",
      "Epoch: 46. Loss: 0.5735952258110046. Rolling Accuracy: 0.677\n",
      "Epoch: 47. Loss: 0.5747919678688049. Rolling Accuracy: 0.629\n",
      "Epoch: 48. Loss: 0.6177448630332947. Rolling Accuracy: 0.638\n",
      "Epoch: 49. Loss: 0.6301319003105164. Rolling Accuracy: 0.684\n",
      "Epoch: 50. Loss: 0.5881885290145874. Rolling Accuracy: 0.75\n",
      "Saving model at epoch 50.\n",
      "Epoch: 51. Loss: 0.5223252177238464. Rolling Accuracy: 0.666\n",
      "Epoch: 52. Loss: 0.5939613580703735. Rolling Accuracy: 0.683\n",
      "Epoch: 53. Loss: 0.6127400398254395. Rolling Accuracy: 0.657\n",
      "Epoch: 54. Loss: 0.5803121328353882. Rolling Accuracy: 0.741\n",
      "Epoch: 55. Loss: 0.5761383771896362. Rolling Accuracy: 0.663\n",
      "Epoch: 56. Loss: 0.5906779170036316. Rolling Accuracy: 0.672\n",
      "Epoch: 57. Loss: 0.6016650795936584. Rolling Accuracy: 0.672\n",
      "Epoch: 58. Loss: 0.574974000453949. Rolling Accuracy: 0.758\n",
      "Saving model at epoch 58.\n",
      "Epoch: 59. Loss: 0.5706602334976196. Rolling Accuracy: 0.776\n",
      "Saving model at epoch 59.\n",
      "Epoch: 60. Loss: 0.5585634708404541. Rolling Accuracy: 0.72\n",
      "Epoch: 61. Loss: 0.5353869795799255. Rolling Accuracy: 0.693\n",
      "Epoch: 62. Loss: 0.5944915413856506. Rolling Accuracy: 0.667\n",
      "Epoch: 63. Loss: 0.5722438097000122. Rolling Accuracy: 0.732\n",
      "Epoch: 64. Loss: 0.5716772675514221. Rolling Accuracy: 0.75\n",
      "Epoch: 65. Loss: 0.5665491223335266. Rolling Accuracy: 0.776\n",
      "Epoch: 66. Loss: 0.5366950035095215. Rolling Accuracy: 0.758\n",
      "Epoch: 67. Loss: 0.5662801861763. Rolling Accuracy: 0.767\n",
      "Epoch: 68. Loss: 0.5601059794425964. Rolling Accuracy: 0.767\n",
      "Epoch: 69. Loss: 0.5622690320014954. Rolling Accuracy: 0.785\n",
      "Saving model at epoch 69.\n",
      "Epoch: 70. Loss: 0.5323769450187683. Rolling Accuracy: 0.759\n",
      "Epoch: 71. Loss: 0.5156325697898865. Rolling Accuracy: 0.716\n",
      "Epoch: 72. Loss: 0.564357340335846. Rolling Accuracy: 0.707\n",
      "Epoch: 73. Loss: 0.5794472098350525. Rolling Accuracy: 0.715\n",
      "Epoch: 74. Loss: 0.573104202747345. Rolling Accuracy: 0.732\n",
      "Epoch: 75. Loss: 0.5272692441940308. Rolling Accuracy: 0.714\n",
      "Epoch: 76. Loss: 0.5111207365989685. Rolling Accuracy: 0.682\n",
      "Epoch: 77. Loss: 0.5619482398033142. Rolling Accuracy: 0.699\n",
      "Epoch: 78. Loss: 0.5523895025253296. Rolling Accuracy: 0.717\n",
      "Epoch: 79. Loss: 0.48942065238952637. Rolling Accuracy: 0.758\n",
      "Epoch: 80. Loss: 0.5135142207145691. Rolling Accuracy: 0.767\n",
      "Epoch: 81. Loss: 0.5159545540809631. Rolling Accuracy: 0.776\n",
      "Epoch: 82. Loss: 0.5098298788070679. Rolling Accuracy: 0.785\n",
      "Epoch: 83. Loss: 0.5113150477409363. Rolling Accuracy: 0.776\n",
      "Epoch: 84. Loss: 0.5195647478103638. Rolling Accuracy: 0.776\n",
      "Epoch: 85. Loss: 0.5219336152076721. Rolling Accuracy: 0.776\n",
      "Epoch: 86. Loss: 0.5132890343666077. Rolling Accuracy: 0.776\n",
      "Epoch: 87. Loss: 0.5032000541687012. Rolling Accuracy: 0.776\n",
      "Epoch: 88. Loss: 0.5078363418579102. Rolling Accuracy: 0.758\n",
      "Epoch: 89. Loss: 0.5170618295669556. Rolling Accuracy: 0.758\n",
      "Epoch: 90. Loss: 0.5111714601516724. Rolling Accuracy: 0.749\n",
      "Epoch: 91. Loss: 0.5066004395484924. Rolling Accuracy: 0.767\n",
      "Epoch: 92. Loss: 0.5035009980201721. Rolling Accuracy: 0.776\n",
      "Epoch: 93. Loss: 0.5021932721138. Rolling Accuracy: 0.759\n",
      "Epoch: 94. Loss: 0.5135706067085266. Rolling Accuracy: 0.732\n",
      "Epoch: 95. Loss: 0.5174723267555237. Rolling Accuracy: 0.723\n",
      "Epoch: 96. Loss: 0.5064111948013306. Rolling Accuracy: 0.741\n",
      "Epoch: 97. Loss: 0.4991333484649658. Rolling Accuracy: 0.767\n",
      "Epoch: 98. Loss: 0.5081096291542053. Rolling Accuracy: 0.758\n",
      "Epoch: 99. Loss: 0.5118566155433655. Rolling Accuracy: 0.758\n",
      "Epoch: 100. Loss: 0.5051044821739197. Rolling Accuracy: 0.74\n",
      "Epoch: 101. Loss: 0.47980403900146484. Rolling Accuracy: 0.74\n",
      "Epoch: 102. Loss: 0.5126405358314514. Rolling Accuracy: 0.723\n",
      "Epoch: 103. Loss: 0.5298030376434326. Rolling Accuracy: 0.741\n",
      "Epoch: 104. Loss: 0.47957226634025574. Rolling Accuracy: 0.741\n",
      "Epoch: 105. Loss: 0.4522290825843811. Rolling Accuracy: 0.758\n",
      "Epoch: 106. Loss: 0.5231503844261169. Rolling Accuracy: 0.749\n",
      "Epoch: 107. Loss: 0.4891137480735779. Rolling Accuracy: 0.767\n",
      "Epoch: 108. Loss: 0.4597134590148926. Rolling Accuracy: 0.767\n",
      "Epoch: 109. Loss: 0.460207998752594. Rolling Accuracy: 0.767\n",
      "Epoch: 110. Loss: 0.45441868901252747. Rolling Accuracy: 0.767\n",
      "Epoch: 111. Loss: 0.46369704604148865. Rolling Accuracy: 0.776\n",
      "Epoch: 112. Loss: 0.4488860070705414. Rolling Accuracy: 0.785\n",
      "Epoch: 113. Loss: 0.4472316801548004. Rolling Accuracy: 0.776\n",
      "Epoch: 114. Loss: 0.4486759603023529. Rolling Accuracy: 0.767\n",
      "Epoch: 115. Loss: 0.45096948742866516. Rolling Accuracy: 0.767\n",
      "Epoch: 116. Loss: 0.45734742283821106. Rolling Accuracy: 0.776\n",
      "Epoch: 117. Loss: 0.4479697644710541. Rolling Accuracy: 0.785\n",
      "Epoch: 118. Loss: 0.4456251561641693. Rolling Accuracy: 0.785\n",
      "Epoch: 119. Loss: 0.44455477595329285. Rolling Accuracy: 0.767\n",
      "Epoch: 120. Loss: 0.4749855399131775. Rolling Accuracy: 0.749\n",
      "Epoch: 121. Loss: 0.4530390202999115. Rolling Accuracy: 0.749\n",
      "Epoch: 122. Loss: 0.44446298480033875. Rolling Accuracy: 0.767\n",
      "Epoch: 123. Loss: 0.44644197821617126. Rolling Accuracy: 0.776\n"
     ]
    },
    {
     "name": "stdout",
     "output_type": "stream",
     "text": [
      "Epoch: 124. Loss: 0.44435998797416687. Rolling Accuracy: 0.767\n",
      "Epoch: 125. Loss: 0.4532008171081543. Rolling Accuracy: 0.758\n",
      "Epoch: 126. Loss: 0.44314008951187134. Rolling Accuracy: 0.767\n",
      "Epoch: 127. Loss: 0.44258540868759155. Rolling Accuracy: 0.767\n",
      "Epoch: 128. Loss: 0.4423987865447998. Rolling Accuracy: 0.767\n"
     ]
    }
   ],
   "source": [
    "wfm = WildfireModel()\n",
    "optimizer = optim.Adam(wfm.parameters(), lr=1e-4)\n",
    "loss_function = nn.BCELoss()\n",
    "\n",
    "BATCH_SIZE = 100\n",
    "EPOCHS = 4000\n",
    "ROLLING_ACCURACY_SIZE = 4\n",
    "\n",
    "past_epoch_accuracies = BoundedNumericList(ROLLING_ACCURACY_SIZE)\n",
    "highest_rolling_accuracy = -1\n",
    "\n",
    "for epoch in range(EPOCHS):\n",
    "    for i in range(0, len(train_x), BATCH_SIZE):\n",
    "        batch_x = train_x[i : i+BATCH_SIZE]\n",
    "        batch_y = train_y[i : i+BATCH_SIZE]\n",
    "        batch_y = torch.unsqueeze(batch_y, 1)\n",
    "        \n",
    "        wfm.zero_grad()\n",
    "\n",
    "        outputs = wfm(batch_x)\n",
    "        loss = loss_function(outputs, batch_y)\n",
    "        loss.backward()\n",
    "        optimizer.step()\n",
    "        \n",
    "    epoch_accuracy,_,_ = evaluate_accuracy(test_x, test_y, wfm)\n",
    "    past_epoch_accuracies.insert(epoch_accuracy)\n",
    "    rolling_accuracy = past_epoch_accuracies.average()\n",
    "\n",
    "    print(f\"Epoch: {epoch}. Loss: {loss}. Rolling Accuracy: {round(rolling_accuracy,3)}\")\n",
    "    \n",
    "    if rolling_accuracy > highest_rolling_accuracy:\n",
    "        print(f\"Saving model at epoch {epoch}.\")\n",
    "        torch.save(wfm, \"wfm.pt\")\n",
    "        highest_rolling_accuracy = rolling_accuracy"
   ]
  },
  {
   "cell_type": "code",
   "execution_count": null,
   "metadata": {},
   "outputs": [],
   "source": [
    "wfm = torch.load('wfm.pt')\n",
    "acc,_,_ = evaluate_accuracy(test_x, test_y, wfm)\n",
    "print(f\"Model accuracy: {acc}\")"
   ]
  }
 ],
 "metadata": {
  "kernelspec": {
   "display_name": "Python 3",
   "language": "python",
   "name": "python3"
  },
  "language_info": {
   "codemirror_mode": {
    "name": "ipython",
    "version": 3
   },
   "file_extension": ".py",
   "mimetype": "text/x-python",
   "name": "python",
   "nbconvert_exporter": "python",
   "pygments_lexer": "ipython3",
   "version": "3.7.5"
  }
 },
 "nbformat": 4,
 "nbformat_minor": 4
}
