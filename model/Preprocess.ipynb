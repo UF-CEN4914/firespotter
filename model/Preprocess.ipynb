{
 "cells": [
  {
   "cell_type": "code",
   "execution_count": 1,
   "metadata": {},
   "outputs": [],
   "source": [
    "import os\n",
    "import cv2\n",
    "import numpy as np\n",
    "from tqdm import tqdm\n",
    "import matplotlib.pyplot as plt"
   ]
  },
  {
   "cell_type": "code",
   "execution_count": 2,
   "metadata": {},
   "outputs": [],
   "source": [
    "# define constants\n",
    "REBUILD_DATA_ARRAY = False\n",
    "BALANCE_DATA = True\n",
    "FIRE = \"../../data/positive/\"\n",
    "NO_FIRE = \"../../data/negative/\"\n",
    "IMG_SZ = 100"
   ]
  },
  {
   "cell_type": "code",
   "execution_count": 3,
   "metadata": {},
   "outputs": [],
   "source": [
    "def build_data_array(INPUT_DIR, IMG_SZ):\n",
    "\n",
    "    data = []\n",
    "        \n",
    "    # construct the path to the directory in which the images exist for a particular label\n",
    "    path = os.path.join(os.getcwd(), INPUT_DIR)\n",
    "\n",
    "    # iterate over each file in the directory\n",
    "    for photo in tqdm(os.listdir(INPUT_DIR)):\n",
    "        try:\n",
    "            # construct the full path to the file\n",
    "            photo_path = os.path.join(path, photo)\n",
    "\n",
    "            # read and resize the image\n",
    "            img = cv2.imread(photo_path)\n",
    "            img = cv2.resize(img, (IMG_SZ, IMG_SZ))\n",
    "\n",
    "            # append to the training data array\n",
    "            data += [np.array(img)]\n",
    "\n",
    "        except Exception as e:\n",
    "            pass\n",
    "\n",
    "    return data"
   ]
  },
  {
   "cell_type": "code",
   "execution_count": 4,
   "metadata": {},
   "outputs": [],
   "source": [
    "if REBUILD_DATA_ARRAY:\n",
    "    \n",
    "    fire = build_data_array(FIRE, IMG_SZ)\n",
    "    no_fire = build_data_array(NO_FIRE, IMG_SZ)\n",
    "    \n",
    "    extra_fire = []\n",
    "    extra_no_fire = []\n",
    "\n",
    "    if BALANCE_DATA:\n",
    "        min_len = min(len(fire),len(no_fire))\n",
    "        \n",
    "        extra_fire = fire[min_len:]\n",
    "        extra_no_fire = no_fire[min_len:]\n",
    "        \n",
    "        fire = fire[:min_len]\n",
    "        no_fire = no_fire[:min_len]\n",
    "        \n",
    "    balanced_data = []\n",
    "    for i in range(len(no_fire)): balanced_data.append([no_fire[i], 0])\n",
    "    for i in range(len(fire)): balanced_data.append([fire[i], 1])    \n",
    "    balanced_data = np.array(balanced_data)\n",
    "    np.random.shuffle(balanced_data)\n",
    "    np.save(\"balanced_data.npy\", balanced_data)\n",
    "    \n",
    "    extra_data = []\n",
    "    for i in range(len(extra_no_fire)): extra_data.append([extra_no_fire[i], 0])\n",
    "    for i in range(len(extra_fire)): extra_data.append([extra_fire[i], 1])    \n",
    "    extra_data = np.array(extra_data)\n",
    "    np.random.shuffle(extra_data)\n",
    "    np.save(\"extra_data.npy\", extra_data)"
   ]
  }
 ],
 "metadata": {
  "kernelspec": {
   "display_name": "Python 3",
   "language": "python",
   "name": "python3"
  },
  "language_info": {
   "codemirror_mode": {
    "name": "ipython",
    "version": 3
   },
   "file_extension": ".py",
   "mimetype": "text/x-python",
   "name": "python",
   "nbconvert_exporter": "python",
   "pygments_lexer": "ipython3",
   "version": "3.7.5"
  }
 },
 "nbformat": 4,
 "nbformat_minor": 2
}
